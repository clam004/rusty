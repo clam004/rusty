{
 "cells": [
  {
   "cell_type": "code",
   "execution_count": 4,
   "id": "ca99f3db-e2c4-456d-ba78-f228d64d553e",
   "metadata": {},
   "outputs": [
    {
     "name": "stdin",
     "output_type": "stream",
     "text": [
      "Enter a value 123abc\n"
     ]
    },
    {
     "name": "stdout",
     "output_type": "stream",
     "text": [
      "You entered: 123abc\n"
     ]
    }
   ],
   "source": [
    ":dep evcxr_input\n",
    "use evcxr_input::get_string;\n",
    "\n",
    "let guess: String = get_string(\"Enter a value: \");\n",
    "\n",
    "// Now `guess` contains the user input\n",
    "println!(\"You entered: {}\", guess);"
   ]
  },
  {
   "cell_type": "code",
   "execution_count": null,
   "id": "c41d525f-6503-41e7-9bd4-32765c3d60d7",
   "metadata": {},
   "outputs": [],
   "source": []
  }
 ],
 "metadata": {
  "kernelspec": {
   "display_name": "Rust",
   "language": "rust",
   "name": "rust"
  },
  "language_info": {
   "codemirror_mode": "rust",
   "file_extension": ".rs",
   "mimetype": "text/rust",
   "name": "Rust",
   "pygment_lexer": "rust",
   "version": ""
  }
 },
 "nbformat": 4,
 "nbformat_minor": 5
}
