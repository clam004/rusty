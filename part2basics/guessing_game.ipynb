{
 "cells": [
  {
   "cell_type": "code",
   "execution_count": 4,
   "id": "ca99f3db-e2c4-456d-ba78-f228d64d553e",
   "metadata": {},
   "outputs": [
    {
     "name": "stdin",
     "output_type": "stream",
     "text": [
      "Enter a value 123abc\n"
     ]
    },
    {
     "name": "stdout",
     "output_type": "stream",
     "text": [
      "You entered: 123abc\n"
     ]
    }
   ],
   "source": [
    ":dep evcxr_input\n",
    "use evcxr_input::get_string;\n",
    "\n",
    "let guess: String = get_string(\"Enter a value: \");\n",
    "\n",
    "// Now `guess` contains the user input\n",
    "println!(\"You entered: {}\", guess);"
   ]
  },
  {
   "cell_type": "markdown",
   "id": "2300d04c-1d8c-4612-83bc-b0e5c500b3b4",
   "metadata": {},
   "source": [
    "To adapt this\n",
    "```rust\n",
    "use std::io;\n",
    "use rand::Rng;\n",
    "\n",
    "fn main() {\n",
    "    println!(\"Guess the number!\");\n",
    "\n",
    "    let secret_number = rand::thread_rng().gen_range(1..=100);\n",
    "\n",
    "    println!(\"The secret number is: {secret_number}\");\n",
    "\n",
    "    println!(\"Please input your guess.\");\n",
    "\n",
    "    let mut guess = String::new();\n",
    "\n",
    "    io::stdin()\n",
    "        .read_line(&mut guess)\n",
    "        .expect(\"Failed to read line\");\n",
    "\n",
    "    println!(\"You guessed: {guess}\");\n",
    "}\n",
    "```\n",
    "for jupyter, we do"
   ]
  },
  {
   "cell_type": "code",
   "execution_count": 5,
   "id": "c41d525f-6503-41e7-9bd4-32765c3d60d7",
   "metadata": {},
   "outputs": [
    {
     "name": "stdout",
     "output_type": "stream",
     "text": [
      "Guess the number!\n",
      "The secret number is: 79\n",
      "Please input your guess.\n"
     ]
    },
    {
     "name": "stdin",
     "output_type": "stream",
     "text": [
      "Enter your guess 9\n"
     ]
    },
    {
     "name": "stdout",
     "output_type": "stream",
     "text": [
      "You guessed: 9\n"
     ]
    }
   ],
   "source": [
    ":dep evcxr_input\n",
    ":dep rand\n",
    "\n",
    "use rand::Rng;\n",
    "use evcxr_input::get_string;\n",
    "\n",
    "println!(\"Guess the number!\");\n",
    "\n",
    "let secret_number = rand::thread_rng().gen_range(1..=100);\n",
    "\n",
    "println!(\"The secret number is: {secret_number}\");\n",
    "\n",
    "println!(\"Please input your guess.\");\n",
    "\n",
    "let guess: String = get_string(\"Enter your guess: \");\n",
    "\n",
    "println!(\"You guessed: {guess}\");\n"
   ]
  },
  {
   "cell_type": "code",
   "execution_count": null,
   "id": "cb2cc8d4-f7d4-419d-9935-17faf8d1154f",
   "metadata": {},
   "outputs": [],
   "source": []
  }
 ],
 "metadata": {
  "kernelspec": {
   "display_name": "Rust",
   "language": "rust",
   "name": "rust"
  },
  "language_info": {
   "codemirror_mode": "rust",
   "file_extension": ".rs",
   "mimetype": "text/rust",
   "name": "Rust",
   "pygment_lexer": "rust",
   "version": ""
  }
 },
 "nbformat": 4,
 "nbformat_minor": 5
}
