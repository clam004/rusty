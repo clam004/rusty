{
 "cells": [
  {
   "cell_type": "markdown",
   "id": "d679a6f0-1f94-4920-8c54-0491caea0232",
   "metadata": {},
   "source": [
    "# Enums (enumerations)\n",
    "\n",
    "enums give you a way of saying a value is one of a possible set of values. For example, we may want to say that Rectangle is one of a set of possible shapes that also includes Circle and Triangle.\n",
    "\n",
    "wanting to store IP addresses and encode which kind they are is so common that the standard library has a definition we can use! Let’s look at how the standard library defines IpAddr: it has the exact enum and variants that we’ve defined and used, but it embeds the address data inside the variants in the form of two different structs\n",
    "\n",
    "you can put any kind of data inside an enum variant: strings, numeric types, or structs, for example. You can even include another enum! Also, standard library types are often not much more complicated than what you might come up with.\n",
    "\n",
    "Note that even though the standard library contains a definition for IpAddr, we can still create and use our own definition without conflict because we haven’t brought the standard library’s definition into our scope"
   ]
  },
  {
   "cell_type": "code",
   "execution_count": 2,
   "id": "262bb813-8b25-4bff-8be4-7315fdccf299",
   "metadata": {},
   "outputs": [],
   "source": [
    "enum IpAddr {\n",
    "    V4(u8, u8, u8, u8),\n",
    "    V6(String),\n",
    "}\n",
    "\n",
    "let home = IpAddr::V4(127, 0, 0, 1);\n",
    "\n",
    "let loopback = IpAddr::V6(String::from(\"::1\"));"
   ]
  },
  {
   "cell_type": "markdown",
   "id": "eac1457e-ba6a-4128-b4bf-c8a2f2d0d0b4",
   "metadata": {},
   "source": [
    "This enum has four variants with different types:\n",
    "\n",
    "1. Quit has no data associated with it at all.\n",
    "2. Move has named fields, like a struct does.\n",
    "3. Write includes a single String.\n",
    "4. ChangeColor includes three i32 values.\n",
    "\n",
    "We’re also able to define methods on enums. The body of the method would use self to get the value that we called the method on. In this example, we’ve created a variable m that has the value Message::Write(String::from(\"hello\")), and that is what self will be in the body of the call method when m.call() runs.  Here’s a method named call that we could define on our Message enum:"
   ]
  },
  {
   "cell_type": "code",
   "execution_count": 6,
   "id": "d6e77b3f-56aa-4735-b61e-c3e1350194a0",
   "metadata": {},
   "outputs": [
    {
     "name": "stdout",
     "output_type": "stream",
     "text": [
      "Write: hello\n",
      "Move to x: 10, y: 20\n",
      "Change color to RGB(255, 0, 0)\n"
     ]
    }
   ],
   "source": [
    "enum Message {\n",
    "    Quit,\n",
    "    Move { x: i32, y: i32 },\n",
    "    Write(String),\n",
    "    ChangeColor(i32, i32, i32),\n",
    "}\n",
    "\n",
    "impl Message {\n",
    "    fn call(&self) {\n",
    "        match self {\n",
    "            Message::Quit => println!(\"Quit\"),\n",
    "            Message::Move { x, y } => println!(\"Move to x: {}, y: {}\", x, y),\n",
    "            Message::Write(s) => println!(\"Write: {}\", s),\n",
    "            Message::ChangeColor(r, g, b) => println!(\"Change color to RGB({}, {}, {})\", r, g, b),\n",
    "        }\n",
    "    }\n",
    "}\n",
    "\n",
    "fn main() {\n",
    "    let m1 = Message::Write(String::from(\"hello\"));\n",
    "    m1.call();\n",
    "    \n",
    "    let m2 = Message::Move { x: 10, y: 20 };\n",
    "    m2.call();\n",
    "    \n",
    "    let m3 = Message::ChangeColor(255, 0, 0);\n",
    "    m3.call();\n",
    "}\n",
    "\n",
    "main();"
   ]
  },
  {
   "cell_type": "code",
   "execution_count": null,
   "id": "3e23505c-d324-4bde-b63d-01df14f4a40e",
   "metadata": {},
   "outputs": [],
   "source": []
  }
 ],
 "metadata": {
  "kernelspec": {
   "display_name": "Rust",
   "language": "rust",
   "name": "rust"
  },
  "language_info": {
   "codemirror_mode": "rust",
   "file_extension": ".rs",
   "mimetype": "text/rust",
   "name": "Rust",
   "pygment_lexer": "rust",
   "version": ""
  }
 },
 "nbformat": 4,
 "nbformat_minor": 5
}
