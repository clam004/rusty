{
 "cells": [
  {
   "cell_type": "markdown",
   "id": "d679a6f0-1f94-4920-8c54-0491caea0232",
   "metadata": {},
   "source": [
    "# enums (enumerations)\n",
    "\n",
    "`enums` give you a way of saying a value is one of a possible set of values. For example, we may want to say that Rectangle is one of a set of possible shapes that also includes Circle and Triangle. Or, a Coin is one of: Penny, Nickel, Dime or Quarter\n",
    "\n",
    "# match\n",
    "\n",
    "`match` is a control flow construct that allows you to compare a value against a series of patterns and then execute code based on which pattern matches the value. Patterns can be made up of literal values, variable names, etc.\n",
    "\n",
    "### enum and match example\n",
    "\n",
    "Below is an example of a `enum` on a set of types of coins. \n",
    "\n",
    "This enum is used by a function `value_in_cents` that takes a coin and uses `match` to determine which coin type it is and returns that type's value in cents.\n",
    "\n",
    "A match has arms, the first arm is `Coin::Penny => 1,`. An arm has two parts: a pattern and some code. The first arm has a pattern that is the value `Coin::Penny` and then the `=>` operator that separates the pattern and the code to run. The code in this case is just the value `1`. Each arm is separated from the next with a comma `,`\n",
    "\n",
    "to run multiple lines of code in a match arm, you must use curly brackets, and the comma following the arm is then optional."
   ]
  },
  {
   "cell_type": "code",
   "execution_count": 27,
   "id": "95e379e9-4bb3-4dbf-a866-212cb7f1c21a",
   "metadata": {},
   "outputs": [
    {
     "name": "stdout",
     "output_type": "stream",
     "text": [
      "5\n",
      "Lucky penny!\n",
      "1\n"
     ]
    }
   ],
   "source": [
    "enum Coin {\n",
    "    Penny,\n",
    "    Nickel,\n",
    "    Dime,\n",
    "    Quarter,\n",
    "}\n",
    "\n",
    "fn value_in_cents(coin: Coin) -> u8 {\n",
    "    match coin {\n",
    "        Coin::Penny => {\n",
    "            println!(\"Lucky penny!\");\n",
    "            1\n",
    "        }\n",
    "        Coin::Nickel => 5,\n",
    "        Coin::Dime => 10,\n",
    "        Coin::Quarter => 25,\n",
    "    }\n",
    "}\n",
    "\n",
    "fn main() {\n",
    "    let nickel = Coin::Nickel;\n",
    "    println!(\"{}\", value_in_cents(nickel));\n",
    "\n",
    "    let p = Coin::Penny;\n",
    "    println!(\"{}\", value_in_cents(p));\n",
    "}\n",
    "\n",
    "main();"
   ]
  },
  {
   "cell_type": "markdown",
   "id": "3e045c2f-f912-49b1-a4ba-bac34d7aa15b",
   "metadata": {},
   "source": [
    "### Enum variant types\n",
    "\n",
    "You can put any kind of data inside an enum variant: strings, numeric types, or structs, for example. You can even include another enum! Also, standard library types are often not much more complicated than what you might come up with.\n",
    "\n",
    "Wanting to store IP addresses and encode which kind they are is so common that the standard library has a `IpAddr` definition.\n",
    "\n",
    "Note that even though the standard library contains a definition for IpAddr, we can still create and use our own definition without conflict because we haven’t brought the standard library’s definition into our scope, which is made of structs for each IP address type."
   ]
  },
  {
   "cell_type": "code",
   "execution_count": 2,
   "id": "262bb813-8b25-4bff-8be4-7315fdccf299",
   "metadata": {},
   "outputs": [],
   "source": [
    "enum IpAddr {\n",
    "    V4(u8, u8, u8, u8),\n",
    "    V6(String),\n",
    "}\n",
    "\n",
    "let home = IpAddr::V4(127, 0, 0, 1);\n",
    "\n",
    "let loopback = IpAddr::V6(String::from(\"::1\"));"
   ]
  },
  {
   "cell_type": "markdown",
   "id": "eac1457e-ba6a-4128-b4bf-c8a2f2d0d0b4",
   "metadata": {},
   "source": [
    "In this example, the `Message` enum has four variants with different types:\n",
    "\n",
    "1. Quit has no data associated with it at all.\n",
    "2. Move has named fields, like a struct does.\n",
    "3. Write includes a single String.\n",
    "4. ChangeColor includes three i32 values.\n",
    "\n",
    "We define the `call` method on the `Message` enum. The body of the `call` method uses `&self` to get the value that we called the method on. For example, `m1` has the value `Message::Write(String::from(\"hello\"))`, and that is what `&self` will be in the body of the call method `m.call()`.  "
   ]
  },
  {
   "cell_type": "code",
   "execution_count": 6,
   "id": "d6e77b3f-56aa-4735-b61e-c3e1350194a0",
   "metadata": {},
   "outputs": [
    {
     "name": "stdout",
     "output_type": "stream",
     "text": [
      "Write: hello\n",
      "Move to x: 10, y: 20\n",
      "Change color to RGB(255, 0, 0)\n"
     ]
    }
   ],
   "source": [
    "enum Message {\n",
    "    Quit,\n",
    "    Move { x: i32, y: i32 },\n",
    "    Write(String),\n",
    "    ChangeColor(i32, i32, i32),\n",
    "}\n",
    "\n",
    "impl Message {\n",
    "    fn call(&self) {\n",
    "        match self {\n",
    "            Message::Quit => println!(\"Quit\"),\n",
    "            Message::Move { x, y } => println!(\"Move to x: {}, y: {}\", x, y),\n",
    "            Message::Write(s) => println!(\"Write: {}\", s),\n",
    "            Message::ChangeColor(r, g, b) => println!(\"Change color to RGB({}, {}, {})\", r, g, b),\n",
    "        }\n",
    "    }\n",
    "}\n",
    "\n",
    "fn main() {\n",
    "    let m1 = Message::Write(String::from(\"hello\"));\n",
    "    m1.call();\n",
    "    \n",
    "    let m2 = Message::Move { x: 10, y: 20 };\n",
    "    m2.call();\n",
    "    \n",
    "    let m3 = Message::ChangeColor(255, 0, 0);\n",
    "    m3.call();\n",
    "}\n",
    "\n",
    "main();"
   ]
  },
  {
   "cell_type": "markdown",
   "id": "83fe2f48-fed0-4cf1-9eae-59b1aaaa73d9",
   "metadata": {},
   "source": [
    "# The `Option` `Enum`\n",
    "\n",
    "The problem with null values is that if you try to use a null value as a not-null value, you’ll get an error of some kind. Because this null or not-null property is pervasive, it’s extremely easy to make this kind of error.\n",
    "\n",
    "However, the concept that null is trying to express is still a useful one: a null is a value that is currently invalid or absent for some reason.\n",
    "\n",
    "The problem isn’t really with the concept but with the particular implementation. As such, Rust does not have nulls, but it does have an enum that can encode the concept of a value being present or absent. This enum is Option<T>, and it is defined by the standard library as follows:\n",
    "\n",
    "```rust\n",
    "enum Option<T> {\n",
    "    None,\n",
    "    Some(T), // the Some variant\n",
    "}\n",
    "```\n",
    "\n",
    "The `<T>` syntax is a generic type parameter, `<T>` means that the `Some` variant of the Option enum can hold one piece of data of any type, and that each concrete type that gets used in place of T makes the overall Option<T> type a different type. \n",
    "\n",
    "You dont ever have to actually write that out `Option`, but it is always there for you to use like this:"
   ]
  },
  {
   "cell_type": "code",
   "execution_count": 9,
   "id": "3e23505c-d324-4bde-b63d-01df14f4a40e",
   "metadata": {},
   "outputs": [],
   "source": [
    "/*\n",
    "For absent_number, Rust requires us to annotate the overall Option type: \n",
    "the compiler can’t infer the type that the corresponding Some variant will hold by looking only at a None value. \n",
    "Here, we tell Rust that we mean for absent_number to be of type Option<i32>.\n",
    "*/\n",
    "\n",
    "let absent_number: Option<i32> = None; \n",
    "\n",
    "let some_number = Some(5); // The type of some_number is Option<i32> \n",
    "let some_char = Some('e'); // The type of some_char is Option<char>"
   ]
  },
  {
   "cell_type": "markdown",
   "id": "2901ff09-506a-4990-8dae-5afa5eaecb7d",
   "metadata": {},
   "source": [
    "`Option<T>` is better than having null because `Option<T>` and `T` (where T can be any type) are different types. The compiler won’t let us use an `Option<T>` value as if it were definitely a valid value. For example, this code won’t compile, because it’s trying to add an `i8` to an `Option<i8>`:"
   ]
  },
  {
   "cell_type": "code",
   "execution_count": 10,
   "id": "c2847c19-d7c7-4827-b29e-2309616387cb",
   "metadata": {},
   "outputs": [
    {
     "ename": "Error",
     "evalue": "consider importing one of these items",
     "output_type": "error",
     "traceback": [
      "\u001b[31mError:\u001b[0m consider importing one of these items"
     ]
    },
    {
     "ename": "Error",
     "evalue": "cannot add `Option<i8>` to `i8`",
     "output_type": "error",
     "traceback": [
      "\u001b[31m[E0277] Error:\u001b[0m cannot add `Option<i8>` to `i8`",
      "   \u001b[38;5;246m╭\u001b[0m\u001b[38;5;246m─\u001b[0m\u001b[38;5;246m[\u001b[0mcommand_10:1:1\u001b[38;5;246m]\u001b[0m",
      "   \u001b[38;5;246m│\u001b[0m",
      " \u001b[38;5;246m4 │\u001b[0m \u001b[38;5;249ml\u001b[0m\u001b[38;5;249me\u001b[0m\u001b[38;5;249mt\u001b[0m\u001b[38;5;249m \u001b[0m\u001b[38;5;249ms\u001b[0m\u001b[38;5;249mu\u001b[0m\u001b[38;5;249mm\u001b[0m\u001b[38;5;249m \u001b[0m\u001b[38;5;249m=\u001b[0m\u001b[38;5;249m \u001b[0m\u001b[38;5;249mx\u001b[0m\u001b[38;5;249m \u001b[0m\u001b[38;5;54m+\u001b[0m\u001b[38;5;249m \u001b[0m\u001b[38;5;249my\u001b[0m\u001b[38;5;249m;\u001b[0m",
      " \u001b[38;5;240m  │\u001b[0m             \u001b[38;5;54m┬\u001b[0m  ",
      " \u001b[38;5;240m  │\u001b[0m             \u001b[38;5;54m╰\u001b[0m\u001b[38;5;54m─\u001b[0m\u001b[38;5;54m─\u001b[0m no implementation for `i8 + Option<i8>`",
      "\u001b[38;5;246m───╯\u001b[0m"
     ]
    }
   ],
   "source": [
    "let x: i8 = 5;\n",
    "let y: Option<i8> = Some(5);\n",
    "\n",
    "let sum = x + y;"
   ]
  },
  {
   "cell_type": "markdown",
   "id": "95b30ed9-6695-4622-ad5c-df86ccf3d86b",
   "metadata": {},
   "source": [
    "Only when we have an Option<i8> (or whatever type of value we’re working with) do we have to worry about possibly not having a value, and the compiler will make sure we handle that case before using the value.\n",
    "\n",
    "In other words, you have to convert an Option<T> to a T before you can perform T operations with it. Generally, this helps catch one of the most common issues with null: assuming that something isn’t null when it actually is.\n",
    "\n",
    "```\n",
    "$ cargo run\n",
    "   Compiling enums v0.1.0 (file:///projects/enums)\n",
    "error[E0277]: cannot add `Option<i8>` to `i8`\n",
    " --> src/main.rs:5:17\n",
    "  |\n",
    "5 |     let sum = x + y;\n",
    "  |                 ^ no implementation for `i8 + Option<i8>`\n",
    "  |\n",
    "  = help: the trait `Add<Option<i8>>` is not implemented for `i8`\n",
    "  = help: the following other types implement trait `Add<Rhs>`:\n",
    "            <&'a i8 as Add<i8>>\n",
    "            <&i8 as Add<&i8>>\n",
    "            <i8 as Add<&i8>>\n",
    "            <i8 as Add>\n",
    "\n",
    "For more information about this error, try `rustc --explain E0277`.\n",
    "error: could not compile `enums` due to previous error\n",
    "```\n",
    "\n",
    "Below:\n",
    "\n",
    "`let result = value.map(|x| x + 1).unwrap_or(0);` means\n",
    "\n",
    "`value.map(|x| x + 1)` The map method is used on the Option type. If the Option contains a value (Some), the closure (|x| x + 1) is applied to the inner value (x), and a new Option with the result is returned. If the Option is None, the map operation is skipped, and None is returned. In this case, the closure adds 1 to the inner integer if it exists.\n",
    "\n",
    "`.unwrap_or(0)` The unwrap_or method is then called on the Option. If the Option is Some, it returns the inner value. If the Option is None, it returns the provided default value, which is 0 in this case. This ensures that even if the original Option is None, we get a default value of 0.\n",
    "\n",
    "So, the entire line is essentially saying: \"If value is Some, add 1 to the inner integer; otherwise, if value is None, use 0 as the result.\" The final result is stored in the variable result."
   ]
  },
  {
   "cell_type": "code",
   "execution_count": 22,
   "id": "bdd11721-fa53-403d-9ef4-58c618438084",
   "metadata": {},
   "outputs": [
    {
     "name": "stdout",
     "output_type": "stream",
     "text": [
      "Original value: None, Result: 0\n"
     ]
    }
   ],
   "source": [
    ":dep rand\n",
    "use rand::Rng;\n",
    "\n",
    "fn main() {\n",
    "    // Import the necessary trait for generating random numbers\n",
    "    let mut rng = rand::thread_rng();\n",
    "\n",
    "    // Generate a random boolean to determine if the value should be an integer or None\n",
    "    let is_integer: bool = rng.gen();\n",
    "\n",
    "    // Create an Option<i32> based on the random boolean, if true:\n",
    "    let value: Option<i32> = if is_integer {\n",
    "        Some(rng.gen_range(1..10))  // Randomly generate an integer between 1 and 10\n",
    "    } else {\n",
    "        None  // Value is None\n",
    "    };\n",
    "\n",
    "    // Perform the desired operation based on the Option value\n",
    "    // If value is Some, add 1 to the inner integer; otherwise, if value is None, use 0 as the result.\n",
    "    let result = value.map(|x| x + 1).unwrap_or(0); \n",
    "\n",
    "    // Display the original value and the result\n",
    "    match value {\n",
    "        Some(v) => println!(\"Original value: {}, Result: {}\", v, result),\n",
    "        None => println!(\"Original value: None, Result: {}\", result),\n",
    "    }\n",
    "}\n",
    "\n",
    "main(); \n",
    "// Original value: None, Result: 0 \n",
    "// Original value: 1, Result: 2\n",
    "// Original value: 9, Result: 10\n",
    "// Original value: None, Result: 0"
   ]
  },
  {
   "cell_type": "code",
   "execution_count": null,
   "id": "e4bba464-9c70-4171-b428-ee7e9aa4da8a",
   "metadata": {},
   "outputs": [],
   "source": []
  }
 ],
 "metadata": {
  "kernelspec": {
   "display_name": "Rust",
   "language": "rust",
   "name": "rust"
  },
  "language_info": {
   "codemirror_mode": "rust",
   "file_extension": ".rs",
   "mimetype": "text/rust",
   "name": "Rust",
   "pygment_lexer": "rust",
   "version": ""
  }
 },
 "nbformat": 4,
 "nbformat_minor": 5
}
