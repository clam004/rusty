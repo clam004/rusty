{
 "cells": [
  {
   "cell_type": "markdown",
   "id": "563dacd0-bc49-4e1d-a0fe-5b8737bcf40e",
   "metadata": {},
   "source": [
    "# The Stack and the Heap\n",
    "\n",
    "Both the stack and the heap are parts of memory available to your code to use at runtime, but they are structured in different ways. Pushing data to the stack is faster than allocating on the heap, Accessing data in the heap is slower than accessing data on the stack because you have to follow a pointer to get there.\n",
    "\n",
    "## The Stack\n",
    "\n",
    "The stack stores values in the order it gets them and removes the values in the opposite order. This is referred to as last in, first out. Think of a stack of plates: when you add more plates, you put them on top of the pile, and when you need a plate, you take one off the top. Adding or removing plates from the middle or bottom wouldn’t work as well! Adding data is called pushing onto the stack, and removing data is called popping off the stack. All data stored on the stack must have a known, fixed size.\n",
    "\n",
    "## The Heap\n",
    "\n",
    "Data with an unknown size at compile time or a size that might change must be stored on the heap instead. When you put data on the heap, you request a certain amount of space. The memory allocator finds an empty spot in the heap that is big enough, marks it as being in use, and returns a pointer, which is the address of that location. This process is called allocating on the heap and is sometimes abbreviated as just allocating (pushing values onto the stack is not considered allocating). Because the pointer to the heap is a known, fixed size, you can store the pointer on the stack, but when you want the actual data, you must follow the pointer. Think of being seated at a restaurant. When you enter, you state the number of people in your group, and the host finds an empty table that fits everyone and leads you there. If someone in your group comes late, they can ask where you’ve been seated to find you.\n",
    "\n"
   ]
  },
  {
   "cell_type": "code",
   "execution_count": 2,
   "id": "09d34574-7bd7-4ca4-b2e1-0f34863c64ab",
   "metadata": {},
   "outputs": [
    {
     "name": "stdout",
     "output_type": "stream",
     "text": [
      "Hello there.\n"
     ]
    }
   ],
   "source": [
    "let mut greeting = \"Hello there.\";  \n",
    "println!(\"{}\", greeting);"
   ]
  },
  {
   "cell_type": "code",
   "execution_count": 3,
   "id": "10881548-3fa6-4f0e-8f14-dce750443fd1",
   "metadata": {},
   "outputs": [
    {
     "ename": "Error",
     "evalue": "no method named `push_str` found for reference `&str` in the current scope",
     "output_type": "error",
     "traceback": [
      "\u001b[31m[E0599] Error:\u001b[0m no method named `push_str` found for reference `&str` in the current scope",
      "   \u001b[38;5;246m╭\u001b[0m\u001b[38;5;246m─\u001b[0m\u001b[38;5;246m[\u001b[0mcommand_3:1:1\u001b[38;5;246m]\u001b[0m",
      "   \u001b[38;5;246m│\u001b[0m",
      " \u001b[38;5;246m1 │\u001b[0m \u001b[38;5;249mg\u001b[0m\u001b[38;5;249mr\u001b[0m\u001b[38;5;249me\u001b[0m\u001b[38;5;249me\u001b[0m\u001b[38;5;249mt\u001b[0m\u001b[38;5;249mi\u001b[0m\u001b[38;5;249mn\u001b[0m\u001b[38;5;249mg\u001b[0m\u001b[38;5;249m.\u001b[0m\u001b[38;5;54mp\u001b[0m\u001b[38;5;54mu\u001b[0m\u001b[38;5;54ms\u001b[0m\u001b[38;5;54mh\u001b[0m\u001b[38;5;54m_\u001b[0m\u001b[38;5;54ms\u001b[0m\u001b[38;5;54mt\u001b[0m\u001b[38;5;54mr\u001b[0m\u001b[38;5;249m(\u001b[0m\u001b[38;5;249m\"\u001b[0m\u001b[38;5;249m,\u001b[0m\u001b[38;5;249m \u001b[0m\u001b[38;5;249mw\u001b[0m\u001b[38;5;249mo\u001b[0m\u001b[38;5;249mr\u001b[0m\u001b[38;5;249ml\u001b[0m\u001b[38;5;249md\u001b[0m\u001b[38;5;249m.\u001b[0m\u001b[38;5;249m\"\u001b[0m\u001b[38;5;249m)\u001b[0m\u001b[38;5;249m;\u001b[0m",
      " \u001b[38;5;240m  │\u001b[0m          \u001b[38;5;54m─\u001b[0m\u001b[38;5;54m─\u001b[0m\u001b[38;5;54m─\u001b[0m\u001b[38;5;54m─\u001b[0m\u001b[38;5;54m┬\u001b[0m\u001b[38;5;54m─\u001b[0m\u001b[38;5;54m─\u001b[0m\u001b[38;5;54m─\u001b[0m  ",
      " \u001b[38;5;240m  │\u001b[0m              \u001b[38;5;54m╰\u001b[0m\u001b[38;5;54m─\u001b[0m\u001b[38;5;54m─\u001b[0m\u001b[38;5;54m─\u001b[0m\u001b[38;5;54m─\u001b[0m\u001b[38;5;54m─\u001b[0m method not found in `&str`",
      "\u001b[38;5;246m───╯\u001b[0m"
     ]
    }
   ],
   "source": [
    "greeting.push_str(\", world.\"); // same error occurs with let greeting = \"Hello there.\";\n",
    "println!(\"{}\", greeting);"
   ]
  },
  {
   "cell_type": "markdown",
   "id": "41fbd786-c3c6-4ecf-b3fb-e2525e681b5f",
   "metadata": {},
   "source": [
    "Above, \"Hello there.\" is a string literal and its type is &'static str. A string literal is a string slice that is statically allocated, meaning that it’s saved inside our compiled program, and exists for the entire duration it runs. The greeting binding is a reference to this statically allocated string. Any function expecting a string slice will also accept a string literal."
   ]
  },
  {
   "cell_type": "code",
   "execution_count": 3,
   "id": "8858138e-67c3-48e0-a31c-bf12173a357b",
   "metadata": {},
   "outputs": [
    {
     "name": "stdout",
     "output_type": "stream",
     "text": [
      "Hello\n",
      "Hello, world.\n"
     ]
    }
   ],
   "source": [
    "let mut s = \"Hello\".to_string(); // mut s: String\n",
    "println!(\"{}\", s);\n",
    "\n",
    "s.push_str(\", world.\");\n",
    "println!(\"{}\", s);"
   ]
  },
  {
   "cell_type": "markdown",
   "id": "0356f597-60af-44b5-bba5-831d86f54600",
   "metadata": {},
   "source": [
    "Above, `String` is a heap-allocated string. This string is growable, and is also guaranteed to be UTF-8. Strings are commonly created by converting from a string slice using the `to_string` method.\n",
    "\n",
    "So, what’s the difference here? Why can String be mutated but literals cannot? The difference is in how these two types deal with memory.\n",
    "\n",
    "    A. String Literal - A string literal is hardcoded directly into the final executable so string literals are fast and efficient.\n",
    "    \n",
    "    B. String Type -  to support a mutable, growable piece of text, we allocate an amount of memory on the heap, unknown at compile time, to hold the contents. This means:\n",
    "                     \n",
    "                    1. The memory must be requested from the memory allocator at runtime.\n",
    "                    2. We need a way of returning this memory to the allocator when we’re done with our String."
   ]
  },
  {
   "cell_type": "code",
   "execution_count": 5,
   "id": "0fbfe5aa-43ed-4b43-a4f3-89d0330700ea",
   "metadata": {},
   "outputs": [
    {
     "name": "stdout",
     "output_type": "stream",
     "text": [
      "x 5\n",
      "y 5\n",
      "x 6\n",
      "y 5\n"
     ]
    }
   ],
   "source": [
    "let x = 5;\n",
    "let y = x;\n",
    "println!(\"x {}\", x);\n",
    "println!(\"y {}\", y);\n",
    "let x = 6;\n",
    "println!(\"x {}\", x);\n",
    "println!(\"y {}\", y);"
   ]
  },
  {
   "cell_type": "code",
   "execution_count": null,
   "id": "008a2af4-c98a-4cd1-a169-87b144b3b496",
   "metadata": {},
   "outputs": [],
   "source": []
  }
 ],
 "metadata": {
  "kernelspec": {
   "display_name": "Rust",
   "language": "rust",
   "name": "rust"
  },
  "language_info": {
   "codemirror_mode": "rust",
   "file_extension": ".rs",
   "mimetype": "text/rust",
   "name": "Rust",
   "pygment_lexer": "rust",
   "version": ""
  }
 },
 "nbformat": 4,
 "nbformat_minor": 5
}
