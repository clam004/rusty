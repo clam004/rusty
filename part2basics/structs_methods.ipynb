{
 "cells": [
  {
   "cell_type": "markdown",
   "id": "aba64941-c325-4fe3-b75b-46faec4f31e2",
   "metadata": {},
   "source": [
    "# Struct\n",
    "\n",
    "To use a struct after we’ve defined it, we create an instance of that struct by specifying concrete values for each of the fields. We create an instance by stating the name of the struct and then add curly brackets containing key: value pairs, where the keys are the names of the fields and the values are the data we want to store in those fields."
   ]
  },
  {
   "cell_type": "code",
   "execution_count": 4,
   "id": "3e719976-57e9-4682-a6f6-5149be86c498",
   "metadata": {},
   "outputs": [],
   "source": [
    "struct User {\n",
    "    active: bool,\n",
    "    username: String,\n",
    "    email: String,\n",
    "    sign_in_count: u64,\n",
    "}"
   ]
  },
  {
   "cell_type": "code",
   "execution_count": 5,
   "id": "7f8d5427-9172-4b2f-abc5-54f871b6d08d",
   "metadata": {},
   "outputs": [
    {
     "name": "stdout",
     "output_type": "stream",
     "text": [
      "someone@example.com\n"
     ]
    }
   ],
   "source": [
    "fn main() {\n",
    "    let user1 = User {\n",
    "        active: true,\n",
    "        username: String::from(\"someusername123\"),\n",
    "        email: String::from(\"someone@example.com\"),\n",
    "        sign_in_count: 1,\n",
    "    };\n",
    "\n",
    "    println!(\"{}\",user1.email)\n",
    "}\n",
    "main();"
   ]
  },
  {
   "cell_type": "code",
   "execution_count": 6,
   "id": "ba436a68-2bea-4ac7-bdd8-69456e0d5e63",
   "metadata": {},
   "outputs": [
    {
     "name": "stdout",
     "output_type": "stream",
     "text": [
      "anotheremail@example.com\n"
     ]
    }
   ],
   "source": [
    "fn main() {\n",
    "    let mut user1 = User {\n",
    "        active: true,\n",
    "        username: String::from(\"someusername123\"),\n",
    "        email: String::from(\"someone@example.com\"),\n",
    "        sign_in_count: 1,\n",
    "    };\n",
    "\n",
    "    user1.email = String::from(\"anotheremail@example.com\");\n",
    "    println!(\"{}\",user1.email)\n",
    "}\n",
    "\n",
    "main();"
   ]
  },
  {
   "cell_type": "code",
   "execution_count": 7,
   "id": "3fa739fe-b3db-4d01-b360-9f8adce718f9",
   "metadata": {},
   "outputs": [],
   "source": [
    "// these two functions are the same\n",
    "\n",
    "fn build_user(email: String, username: String) -> User {\n",
    "    User {\n",
    "        active: true,\n",
    "        username: username,\n",
    "        email: email,\n",
    "        sign_in_count: 1,\n",
    "    }\n",
    "}\n",
    "\n",
    "fn build_user(email: String, username: String) -> User {\n",
    "    User {\n",
    "        active: true,\n",
    "        username,\n",
    "        email,\n",
    "        sign_in_count: 1,\n",
    "    }\n",
    "}"
   ]
  },
  {
   "cell_type": "markdown",
   "id": "19bec4df-46a4-463b-a3f8-cde6da35c9b5",
   "metadata": {},
   "source": [
    "In the above example, we can no longer use user1 as a whole after creating user2 because the String in the username field of user1 was moved into user2\n",
    "\n",
    "\n",
    "Below, we add the outer attribute `#[derive(Debug)]` just before the struct definition\n",
    "\n",
    "in format strings you may be able to use `{:?}` (or {:#?} for pretty-print)"
   ]
  },
  {
   "cell_type": "code",
   "execution_count": 25,
   "id": "4d22a449-aef2-4f02-aebd-67ec01d5e74a",
   "metadata": {},
   "outputs": [
    {
     "name": "stdout",
     "output_type": "stream",
     "text": [
      "User {\n",
      "    active: true,\n",
      "    username: \"someusername123\",\n",
      "    email: \"another@example.com\",\n",
      "    sign_in_count: 1,\n",
      "}\n",
      "User {\n",
      "    active: true,\n",
      "    username: \"someusername123\",\n",
      "    email: \"another@example.com\",\n",
      "    sign_in_count: 1,\n",
      "}\n"
     ]
    }
   ],
   "source": [
    "// these two are the same\n",
    "\n",
    "#[derive(Debug)]\n",
    "struct User {\n",
    "    active: bool,\n",
    "    username: String,\n",
    "    email: String,\n",
    "    sign_in_count: u64,\n",
    "}\n",
    "\n",
    "fn main() {\n",
    "    \n",
    "    let user1 = User {\n",
    "        active: true,\n",
    "        username: String::from(\"someusername123\"),\n",
    "        email: String::from(\"someone@example.com\"),\n",
    "        sign_in_count: 1,\n",
    "    };\n",
    "    \n",
    "    let user3 = User {\n",
    "        active: user1.active,\n",
    "        username: user1.username,\n",
    "        email: String::from(\"another@example.com\"),\n",
    "        sign_in_count: user1.sign_in_count,\n",
    "    };\n",
    "    \n",
    "    println!(\"{:#?}\", user3); \n",
    "    //  Putting the specifier :? inside the curly brackets tells println! we want to use an output format called Debug.\n",
    "}\n",
    "\n",
    "main();\n",
    "\n",
    "fn main() {\n",
    "    \n",
    "    let user1 = User {\n",
    "        active: true,\n",
    "        username: String::from(\"someusername123\"),\n",
    "        email: String::from(\"someone@example.com\"),\n",
    "        sign_in_count: 1,\n",
    "    };\n",
    "    \n",
    "    let user3 = User {\n",
    "        email: String::from(\"another@example.com\"),\n",
    "        ..user1\n",
    "    };\n",
    "    \n",
    "    println!(\"{:#?}\", user3);\n",
    "}\n",
    "\n",
    "main();"
   ]
  },
  {
   "cell_type": "code",
   "execution_count": 22,
   "id": "6d8d8201-0538-4bf3-9c37-4c5a214470c7",
   "metadata": {},
   "outputs": [],
   "source": [
    "struct Color(i32, i32, i32);\n",
    "struct Point(i32, i32, i32);\n",
    "\n",
    "fn main() {\n",
    "    let black = Color(0, 0, 0);\n",
    "    let origin = Point(0, 0, 0);\n",
    "}"
   ]
  },
  {
   "cell_type": "code",
   "execution_count": 24,
   "id": "979f796b-82cc-418f-ac33-970d00099413",
   "metadata": {},
   "outputs": [
    {
     "name": "stdout",
     "output_type": "stream",
     "text": [
      "The area of the rectangle is 1500 square pixels.\n"
     ]
    }
   ],
   "source": [
    "struct Rectangle {\n",
    "    width: u32,\n",
    "    height: u32,\n",
    "}\n",
    "\n",
    "fn main() {\n",
    "    let rect1 = Rectangle {\n",
    "        width: 30,\n",
    "        height: 50,\n",
    "    };\n",
    "\n",
    "    println!(\n",
    "        \"The area of the rectangle is {} square pixels.\",\n",
    "        area(&rect1)\n",
    "    );\n",
    "}\n",
    "\n",
    "fn area(rectangle: &Rectangle) -> u32 {\n",
    "    rectangle.width * rectangle.height\n",
    "}\n",
    "\n",
    "main();"
   ]
  },
  {
   "cell_type": "markdown",
   "id": "dd6138c8-6a3e-465d-99e6-b4e55486a407",
   "metadata": {},
   "source": [
    "the dbg! macro, which takes ownership of an expression (as opposed to println!, which takes a reference), prints the file and line number of where that dbg! macro call occurs in your code along with the resultant value of that expression, and returns ownership of the value.\n",
    "\n",
    "dbg! macro prints to the standard error console stream (stderr), as opposed to println!, which prints to the standard output console stream (stdout)."
   ]
  },
  {
   "cell_type": "code",
   "execution_count": 29,
   "id": "e9cfebcc-e4f7-4910-9774-05575b16b33a",
   "metadata": {},
   "outputs": [
    {
     "name": "stderr",
     "output_type": "stream",
     "text": [
      "[src/lib.rs:8] 30 * scale = 60\n",
      "[src/lib.rs:12] &rect1 = Rectangle {\n",
      "    width: 60,\n",
      "    height: 50,\n",
      "}\n"
     ]
    }
   ],
   "source": [
    "#[derive(Debug)]\n",
    "struct Rectangle {\n",
    "    width: u32,\n",
    "    height: u32,\n",
    "}\n",
    "\n",
    "fn main() {\n",
    "    let scale = 2;\n",
    "    // We can put dbg! around the expression 30 * scale and, because dbg! returns ownership of the expression’s value, \n",
    "    // the width field will get the same value as if we didn’t have the dbg! call there.\n",
    "    let rect1 = Rectangle {\n",
    "        width: dbg!(30 * scale), // shows us what the evaluated to 30 * scale = 60\n",
    "        height: 50,\n",
    "    };\n",
    "\n",
    "    dbg!(&rect1); // We don’t want dbg! to take ownership of rect1, so we use a reference to rect1 by adding a & before it\n",
    "}\n",
    "\n",
    "main();"
   ]
  },
  {
   "cell_type": "markdown",
   "id": "31ee5833-7b78-40b1-9760-3b14f99ab48f",
   "metadata": {},
   "source": [
    "# Methods\n",
    "\n",
    "methods are functions defined within the context of a struct (or an enum or a trait object), and their first parameter is always self, which represents the instance of the struct the method is being called on.\n",
    "\n",
    "Below, we start an `impl` (implementation) block for `Rectangle`. Everything within this impl block will be associated with the Rectangle type. Then we move the area function within the impl curly brackets and change the first (and in this case, only) parameter to be self in the signature and everywhere within the body. In main, where we called the area function and passed rect1 as an argument, we can instead use method syntax to call the area method on our Rectangle instance. The method syntax goes after an instance: we add a dot followed by the method name, parentheses, and any arguments.\n",
    "\n",
    "In the signature for area, we use &self instead of rectangle: &Rectangle. The &self is actually short for self: &Self. Within an impl block, the type Self is an alias for the type that the impl block is for. Methods must have a parameter named self of type Self for their first parameter, so Rust lets you abbreviate this with only the name &self in the first parameter spot. Note that we still need to use the & in front of the self shorthand to indicate that this method borrows the Self instance, just as we did in rectangle: &Rectangle."
   ]
  },
  {
   "cell_type": "code",
   "execution_count": 30,
   "id": "4bc5db3d-ae01-4610-a5a0-c9fabe031cb3",
   "metadata": {},
   "outputs": [
    {
     "name": "stdout",
     "output_type": "stream",
     "text": [
      "The area of the rectangle is 1500 square pixels.\n"
     ]
    }
   ],
   "source": [
    "#[derive(Debug)]\n",
    "struct Rectangle {\n",
    "    width: u32,\n",
    "    height: u32,\n",
    "}\n",
    "\n",
    "impl Rectangle {\n",
    "    fn area(&self) -> u32 {\n",
    "        self.width * self.height\n",
    "    }\n",
    "}\n",
    "\n",
    "fn main() {\n",
    "    let rect1 = Rectangle {\n",
    "        width: 30,\n",
    "        height: 50,\n",
    "    };\n",
    "\n",
    "    println!(\n",
    "        \"The area of the rectangle is {} square pixels.\",\n",
    "        rect1.area()\n",
    "    );\n",
    "}\n",
    "\n",
    "main();"
   ]
  },
  {
   "cell_type": "markdown",
   "id": "d4c0037c-88ff-4ac7-992a-09678fcea9ab",
   "metadata": {},
   "source": [
    "Methods can take ownership of self, borrow self immutably, as we’ve done here, or borrow self mutably, just as they can any other parameter.\n",
    "\n",
    "we chose &self here for the same reason we used &Rectangle in the function version: we don’t want to take ownership, and we just want to read the data in the struct, not write to it. If we wanted to change the instance that we’ve called the method on as part of what the method does, we’d use &mut self as the first parameter. Having a method that takes ownership of the instance by using just self as the first parameter is rare; this technique is usually used when the method transforms self into something else and you want to prevent the caller from using the original instance after the transformation.\n",
    "\n",
    "The main reason for using methods instead of functions, in addition to providing method syntax and not having to repeat the type of self in every method’s signature, is for organization. We’ve put all the things we can do with an instance of a type in one impl block rather than making future users of our code search for capabilities of Rectangle in various places in the library we provide.\n",
    "\n",
    "when we give a method the same name as a field we want it to only return the value in the field and do nothing else. Methods like this are called getters, and Rust does not implement them automatically for struct fields as some other languages do. Getters are useful because you can make the field private but the method public, and thus enable read-only access to that field as part of the type’s public API"
   ]
  },
  {
   "cell_type": "code",
   "execution_count": 39,
   "id": "8cb0dbab-44db-48c1-aa6a-66f943866082",
   "metadata": {},
   "outputs": [
    {
     "name": "stdout",
     "output_type": "stream",
     "text": [
      "The rectangle has a nonzero width; it is 30\n"
     ]
    }
   ],
   "source": [
    "#[derive(Debug)]\n",
    "struct Rectangle {\n",
    "    width: u32,\n",
    "    height: u32,\n",
    "}\n",
    "\n",
    "impl Rectangle {\n",
    "    fn has_width(&self) -> bool {\n",
    "        self.width > 0\n",
    "    }\n",
    "}\n",
    "\n",
    "fn main() {\n",
    "    let rect1 = Rectangle {\n",
    "        width: 30,\n",
    "        height: 50,\n",
    "    };\n",
    "\n",
    "    if rect1.has_width() {\n",
    "        println!(\"The rectangle has a nonzero width; it is {}\", rect1.width);\n",
    "    }\n",
    "}\n",
    "\n",
    "main();"
   ]
  },
  {
   "cell_type": "code",
   "execution_count": 41,
   "id": "e5e907bb-99a9-4338-937b-d9020fd20e4a",
   "metadata": {},
   "outputs": [
    {
     "name": "stdout",
     "output_type": "stream",
     "text": [
      "The rectangle has a nonzero width; it is 30\n"
     ]
    }
   ],
   "source": [
    "#[derive(Debug)]\n",
    "struct Rectangle {\n",
    "    width: u32,\n",
    "    height: u32,\n",
    "}\n",
    "\n",
    "impl Rectangle {\n",
    "    fn has_width(&self) -> bool {\n",
    "        self.width > 0\n",
    "    }\n",
    "}\n",
    "\n",
    "fn main() {\n",
    "    let rect1 = Rectangle {\n",
    "        width: 30,\n",
    "        height: 50,\n",
    "    };\n",
    "\n",
    "    if rect1.has_width() {\n",
    "        println!(\"The rectangle has a nonzero width; it is {}\", rect1.width);\n",
    "    }\n",
    "}\n",
    "\n",
    "main();"
   ]
  },
  {
   "cell_type": "markdown",
   "id": "3f67c5fa-8c7d-460d-a56d-b6922b2d47a5",
   "metadata": {},
   "source": [
    "## automatic referencing and dereferencing\n",
    "\n",
    "when you call a method with object.something(), Rust automatically adds in &, &mut, or * so object matches the signature of the method. In other words, the following are the same:\n",
    "\n",
    "```rust\n",
    "p1.distance(&p2);\n",
    "\n",
    "(&p1).distance(&p2);\n",
    "```"
   ]
  },
  {
   "cell_type": "markdown",
   "id": "00468c46-5ce9-4388-a085-181a09b94b98",
   "metadata": {},
   "source": [
    "method `can_hold` will take an immutable borrow of another Rectangle as a parameter. and return true if the second Rectangle can fit completely within self (the first Rectangle);"
   ]
  },
  {
   "cell_type": "code",
   "execution_count": 42,
   "id": "0205963a-c466-4f4f-9e4e-0a4be57cec60",
   "metadata": {},
   "outputs": [
    {
     "name": "stdout",
     "output_type": "stream",
     "text": [
      "Can rect1 hold rect2? true\n",
      "Can rect1 hold rect3? false\n"
     ]
    }
   ],
   "source": [
    "#[derive(Debug)]\n",
    "struct Rectangle {\n",
    "    width: u32,\n",
    "    height: u32,\n",
    "}\n",
    "\n",
    "impl Rectangle {\n",
    "    fn area(&self) -> u32 {\n",
    "        self.width * self.height\n",
    "    }\n",
    "\n",
    "    // can_hold will take an immutable borrow of another Rectangle as a parameter.\n",
    "    fn can_hold(&self, other: &Rectangle) -> bool {\n",
    "        self.width > other.width && self.height > other.height\n",
    "    }\n",
    "}\n",
    "\n",
    "fn main() {\n",
    "    let rect1 = Rectangle {\n",
    "        width: 30,\n",
    "        height: 50,\n",
    "    };\n",
    "    let rect2 = Rectangle {\n",
    "        width: 10,\n",
    "        height: 40,\n",
    "    };\n",
    "    let rect3 = Rectangle {\n",
    "        width: 60,\n",
    "        height: 45,\n",
    "    };\n",
    "\n",
    "    println!(\"Can rect1 hold rect2? {}\", rect1.can_hold(&rect2));\n",
    "    println!(\"Can rect1 hold rect3? {}\", rect1.can_hold(&rect3));\n",
    "}\n",
    "\n",
    "main();"
   ]
  },
  {
   "cell_type": "markdown",
   "id": "809c9bf6-b9c8-4a47-a62f-ee3e00f5b9f7",
   "metadata": {},
   "source": [
    "You can also separate the methods into differnt impl blocks\n",
    "\n",
    "```rust\n",
    "impl Rectangle {\n",
    "    fn area(&self) -> u32 {\n",
    "        self.width * self.height\n",
    "    }\n",
    "}\n",
    "\n",
    "impl Rectangle {\n",
    "    fn can_hold(&self, other: &Rectangle) -> bool {\n",
    "        self.width > other.width && self.height > other.height\n",
    "    }\n",
    "}\n",
    "```\n",
    "\n",
    "\n",
    "All functions defined within an impl block are called associated functions because they’re associated with the type named after the impl. We can define associated functions that don’t have self as their first parameter (and thus are not methods) because they don’t need an instance of the type to work with. We’ve already used one function like this: the String::from function that’s defined on the String type.\n",
    "\n",
    "Associated functions that aren’t methods are often used for constructors that will return a new instance of the struct. These are often called new, but new isn’t a special name and isn’t built into the language. For example, we could choose to provide an associated function named square that would have one dimension parameter and use that as both width and height, thus making it easier to create a square Rectangle rather than having to specify the same value twice\n",
    "\n",
    "The Self keywords in the return type and in the body of the function are aliases for the type that appears after the impl keyword, which in this case is Rectangle."
   ]
  },
  {
   "cell_type": "code",
   "execution_count": 43,
   "id": "cf161e28-971b-4e64-abca-65fe08e72a26",
   "metadata": {},
   "outputs": [],
   "source": [
    "#[derive(Debug)]\n",
    "struct Rectangle {\n",
    "    width: u32,\n",
    "    height: u32,\n",
    "}\n",
    "\n",
    "impl Rectangle {\n",
    "    fn area(&self) -> u32 {\n",
    "        self.width * self.height\n",
    "    }\n",
    "\n",
    "    // can_hold will take an immutable borrow of another Rectangle as a parameter.\n",
    "    fn can_hold(&self, other: &Rectangle) -> bool {\n",
    "        self.width > other.width && self.height > other.height\n",
    "    }\n",
    "    \n",
    "    fn square(size: u32) -> Self {\n",
    "        Self {\n",
    "            width: size,\n",
    "            height: size,\n",
    "        }\n",
    "    }\n",
    "}"
   ]
  },
  {
   "cell_type": "markdown",
   "id": "34ccaa67-fe17-4a86-8841-dfcdb0630221",
   "metadata": {},
   "source": [
    "To call this associated function, we use the :: syntax with the struct name; `let sq = Rectangle::square(3);` is an example. \n",
    "\n",
    "This function is namespaced by the struct: the :: syntax is used for both associated functions and namespaces created by modules. "
   ]
  },
  {
   "cell_type": "code",
   "execution_count": 45,
   "id": "c8898853-8abc-4e0c-9889-d34202febe20",
   "metadata": {},
   "outputs": [
    {
     "name": "stdout",
     "output_type": "stream",
     "text": [
      "Rectangle {\n",
      "    width: 3,\n",
      "    height: 3,\n",
      "}\n"
     ]
    }
   ],
   "source": [
    "let sq = Rectangle::square(3);\n",
    "\n",
    "println!(\"{:#?}\", sq);"
   ]
  },
  {
   "cell_type": "code",
   "execution_count": null,
   "id": "07616931-8c28-45ee-92c9-61cdc677fcf9",
   "metadata": {},
   "outputs": [],
   "source": []
  }
 ],
 "metadata": {
  "kernelspec": {
   "display_name": "Rust",
   "language": "rust",
   "name": "rust"
  },
  "language_info": {
   "codemirror_mode": "rust",
   "file_extension": ".rs",
   "mimetype": "text/rust",
   "name": "Rust",
   "pygment_lexer": "rust",
   "version": ""
  }
 },
 "nbformat": 4,
 "nbformat_minor": 5
}
