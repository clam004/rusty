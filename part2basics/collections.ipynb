{
 "cells": [
  {
   "cell_type": "markdown",
   "id": "4fee36ee-a49f-4cb9-96ca-8d88c656ae91",
   "metadata": {},
   "source": [
    "# Vectors vs Arrays\n",
    "\n",
    "https://doc.rust-lang.org/stable/book/ch08-01-vectors.html\n",
    "\n",
    "Whereas Arrays are fixed sized. A vector, on the other hand, is a dynamic array or a resizable array"
   ]
  },
  {
   "cell_type": "code",
   "execution_count": 4,
   "id": "3ceba86e-aea3-4c83-ab4a-e394755331d2",
   "metadata": {},
   "outputs": [
    {
     "name": "stdout",
     "output_type": "stream",
     "text": [
      "[1, 2, 3, 4]\n"
     ]
    }
   ],
   "source": [
    "// Example of an array with a size of 3 containing integers\n",
    "let my_array: [i32; 3] = [1, 2, 3];\n",
    "\n",
    "// Example of a vector\n",
    "let v: Vec<i32> = Vec::new();\n",
    "\n",
    "// Example of a vector containing integers\n",
    "let mut my_vector: Vec<i32> = vec![1, 2, 3];\n",
    "my_vector.push(4); // Add an element to the vector\n",
    "\n",
    "println!(\"{:?}\",my_vector);"
   ]
  },
  {
   "cell_type": "code",
   "execution_count": null,
   "id": "cdc71a0a-ba65-41d5-bd47-63c247d12c55",
   "metadata": {},
   "outputs": [],
   "source": []
  }
 ],
 "metadata": {
  "kernelspec": {
   "display_name": "Rust",
   "language": "rust",
   "name": "rust"
  },
  "language_info": {
   "codemirror_mode": "rust",
   "file_extension": ".rs",
   "mimetype": "text/rust",
   "name": "Rust",
   "pygment_lexer": "rust",
   "version": ""
  }
 },
 "nbformat": 4,
 "nbformat_minor": 5
}
