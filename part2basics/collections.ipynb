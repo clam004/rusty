{
 "cells": [
  {
   "cell_type": "markdown",
   "id": "4fee36ee-a49f-4cb9-96ca-8d88c656ae91",
   "metadata": {},
   "source": [
    "# Vectors vs Arrays\n",
    "\n",
    "https://doc.rust-lang.org/stable/book/ch08-01-vectors.html\n",
    "\n",
    "Whereas Arrays are fixed sized. A vector, on the other hand, is a dynamic array or a resizable array"
   ]
  },
  {
   "cell_type": "code",
   "execution_count": 4,
   "id": "3ceba86e-aea3-4c83-ab4a-e394755331d2",
   "metadata": {},
   "outputs": [
    {
     "name": "stdout",
     "output_type": "stream",
     "text": [
      "[1, 2, 3, 4]\n"
     ]
    }
   ],
   "source": [
    "// Example of an array with a size of 3 containing integers\n",
    "let my_array: [i32; 3] = [1, 2, 3];\n",
    "\n",
    "// Example of a vector\n",
    "let v: Vec<i32> = Vec::new();\n",
    "\n",
    "// Example of a vector containing integers\n",
    "let mut my_vector: Vec<i32> = vec![1, 2, 3];\n",
    "my_vector.push(4); // Add an element to the vector\n",
    "\n",
    "println!(\"{:?}\",my_vector);\n",
    "\n",
    "// Rust conveniently provides the vec! macro, which will create a new vector that holds the values you give \n",
    "let v = vec![1, 2, 3];"
   ]
  },
  {
   "cell_type": "code",
   "execution_count": 12,
   "id": "cdc71a0a-ba65-41d5-bd47-63c247d12c55",
   "metadata": {},
   "outputs": [
    {
     "name": "stdout",
     "output_type": "stream",
     "text": [
      "alloc::vec::Vec<i32>\n",
      "&str\n",
      "i32\n",
      "ctx::main\n",
      "ctx::print_type_of<i32>\n",
      "ctx::main::{{closure}}\n"
     ]
    }
   ],
   "source": [
    "fn print_type_of<T>(_: &T) {\n",
    "    println!(\"{}\", std::any::type_name::<T>())\n",
    "}\n",
    "\n",
    "fn main() {\n",
    "    let s = \"Hello\";\n",
    "    let i = 42;\n",
    "    let v = vec![1, 2, 3];\n",
    "\n",
    "    print_type_of(&v); // &str\n",
    "    print_type_of(&s); // &str\n",
    "    print_type_of(&i); // i32\n",
    "    print_type_of(&main); // playground::main\n",
    "    print_type_of(&print_type_of::<i32>); // playground::print_type_of<i32>\n",
    "    print_type_of(&{ || \"Hi!\" }); // playground::main::{{closure}}\n",
    "}\n",
    "\n",
    "\n",
    "main();"
   ]
  },
  {
   "cell_type": "code",
   "execution_count": null,
   "id": "be008d6b-1383-4eb5-9da4-fc0a0d7f026d",
   "metadata": {},
   "outputs": [],
   "source": []
  }
 ],
 "metadata": {
  "kernelspec": {
   "display_name": "Rust",
   "language": "rust",
   "name": "rust"
  },
  "language_info": {
   "codemirror_mode": "rust",
   "file_extension": ".rs",
   "mimetype": "text/rust",
   "name": "Rust",
   "pygment_lexer": "rust",
   "version": ""
  }
 },
 "nbformat": 4,
 "nbformat_minor": 5
}
