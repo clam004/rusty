{
 "cells": [
  {
   "cell_type": "code",
   "execution_count": 2,
   "id": "6bbdbe4d-a044-47e1-97cc-7925229cdfdc",
   "metadata": {},
   "outputs": [
    {
     "name": "stdout",
     "output_type": "stream",
     "text": [
      "Guess the number!\n"
     ]
    }
   ],
   "source": [
    "println!(\"Guess the number!\");"
   ]
  },
  {
   "cell_type": "code",
   "execution_count": null,
   "id": "80b76df8-de2b-4f50-abd2-914c63a76e67",
   "metadata": {},
   "outputs": [],
   "source": []
  }
 ],
 "metadata": {
  "kernelspec": {
   "display_name": "Rust",
   "language": "rust",
   "name": "rust"
  },
  "language_info": {
   "codemirror_mode": "rust",
   "file_extension": ".rs",
   "mimetype": "text/rust",
   "name": "Rust",
   "pygment_lexer": "rust",
   "version": ""
  }
 },
 "nbformat": 4,
 "nbformat_minor": 5
}
